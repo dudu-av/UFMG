{
 "cells": [
  {
   "cell_type": "code",
   "execution_count": 4,
   "id": "09d99fdb",
   "metadata": {},
   "outputs": [],
   "source": [
    "import matplotlib.pyplot as plt\n",
    "import numpy as np\n",
    "import math as m"
   ]
  },
  {
   "cell_type": "code",
   "execution_count": 20,
   "id": "09851703",
   "metadata": {},
   "outputs": [],
   "source": [
    "def fuzzify(x, member):\n",
    "    \n",
    "    if (member == 'small'):\n",
    "        c = 0\n",
    "    elif (member == 'medium'):\n",
    "        c = m.pi\n",
    "    elif (member == 'big'):\n",
    "        c = 2*m.pi\n",
    "    \n",
    "    if (type(x) == np.ndarray):\n",
    "        y = []\n",
    "        for value in x:\n",
    "            y.append( m.exp( -1.0*(value-c)**2 / (2*(m.pi/2)**2) ) )\n",
    "        return y\n",
    "    else:\n",
    "        return m.exp( -1.0*(x-c)**2 / (2*(m.pi/2)**2) )\n",
    "    "
   ]
  },
  {
   "cell_type": "code",
   "execution_count": 8,
   "id": "77471f85",
   "metadata": {},
   "outputs": [],
   "source": [
    "def f(x, member):\n",
    "    if (member == 'small'):\n",
    "        return x\n",
    "    elif (member == 'medium'):\n",
    "        return -x+m.pi\n",
    "    elif (member == 'big'):\n",
    "        return x-2*m.pi"
   ]
  },
  {
   "cell_type": "code",
   "execution_count": 45,
   "id": "44fcbed5",
   "metadata": {},
   "outputs": [],
   "source": [
    "def takagi_sugeno(x, members, scale = 1):\n",
    "    \n",
    "    if (type(x) == np.ndarray):\n",
    "        y = []\n",
    "        for value in x:\n",
    "            \n",
    "            numerator = 0\n",
    "            denominator = 0\n",
    "            for member in members:\n",
    "                numerator = numerator + fuzzify(value, member)*f(value, member)\n",
    "                denominator = denominator + fuzzify(value, member)\n",
    "\n",
    "            if (denominator == 0):\n",
    "                denominator = 1\n",
    "                \n",
    "            y.append(numerator / (denominator*scale))\n",
    "            \n",
    "        return y\n",
    "    else:\n",
    "        numerator = 0\n",
    "        denominator = 0\n",
    "        for member in members:\n",
    "            numerator = numerator + fuzzify(x, member)*f(x, member)\n",
    "            denominator = denominator + fuzzify(x, member)\n",
    "\n",
    "        if (denominator == 0):\n",
    "            denominator = 1\n",
    "        \n",
    "        return numerator/denominator"
   ]
  },
  {
   "cell_type": "code",
   "execution_count": 46,
   "id": "5a17af0b",
   "metadata": {},
   "outputs": [
    {
     "data": {
      "image/png": "[encoded data removed]",
      "text/plain": [
       "<Figure size 432x288 with 1 Axes>"
      ]
     },
     "metadata": {
      "needs_background": "light"
     },
     "output_type": "display_data"
    }
   ],
   "source": [
    "x = np.linspace(0, 2*m.pi, num=500)\n",
    "members = ['small', 'medium', 'big']\n",
    "\n",
    "plt.plot(x, np.vectorize(m.sin)(x), color = 'black')\n",
    "# plt.plot(x, fuzzify(x, members[0]), color='red')\n",
    "# plt.plot(x, fuzzify(x, members[1]), color='blue')\n",
    "# plt.plot(x, fuzzify(x, members[2]), color='orange')\n",
    "plt.plot(x, takagi_sugeno(x, members, max(np.vectorize(m.sin)(x))), color = 'red')\n",
    "plt.show()"
   ]
  },
  {
   "cell_type": "code",
   "execution_count": 18,
   "id": "d5a984f2",
   "metadata": {},
   "outputs": [
    {
     "data": {
      "text/plain": [
       "True"
      ]
     },
     "execution_count": 18,
     "metadata": {},
     "output_type": "execute_result"
    }
   ],
   "source": [
    "type(x) == np.ndarray"
   ]
  }
 ],
 "metadata": {
  "kernelspec": {
   "display_name": "Python 3 (ipykernel)",
   "language": "python",
   "name": "python3"
  },
  "language_info": {
   "codemirror_mode": {
    "name": "ipython",
    "version": 3
   },
   "file_extension": ".py",
   "mimetype": "text/x-python",
   "name": "python",
   "nbconvert_exporter": "python",
   "pygments_lexer": "ipython3",
   "version": "3.9.7"
  }
 },
 "nbformat": 4,
 "nbformat_minor": 5
}
