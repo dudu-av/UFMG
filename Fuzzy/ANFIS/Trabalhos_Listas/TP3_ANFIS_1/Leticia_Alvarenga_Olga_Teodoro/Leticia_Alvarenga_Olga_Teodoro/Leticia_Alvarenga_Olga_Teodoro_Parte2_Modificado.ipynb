{
 "cells": [
  {
   "cell_type": "markdown",
   "metadata": {
    "id": "QTNpcPoJhNRP"
   },
   "source": [
    "# Aproximação de uma função (Regressão)"
   ]
  },
  {
   "cell_type": "markdown",
   "metadata": {
    "id": "WfSj5P1fxXyE"
   },
   "source": [
    "Para este trabalho a biblioteca `anfis-pytorch` foi utilizada para a criação de uma rede ANFIS.\n"
   ]
  },
  {
   "cell_type": "code",
   "execution_count": 1,
   "metadata": {
    "id": "cxkLu6lVgqUx"
   },
   "outputs": [
    {
     "ename": "ModuleNotFoundError",
     "evalue": "No module named 'torch'",
     "output_type": "error",
     "traceback": [
      "\u001b[0;31m---------------------------------------------------------------------------\u001b[0m",
      "\u001b[0;31mModuleNotFoundError\u001b[0m                       Traceback (most recent call last)",
      "\u001b[0;32m/tmp/ipykernel_7426/2148914209.py\u001b[0m in \u001b[0;36m<module>\u001b[0;34m\u001b[0m\n\u001b[1;32m      4\u001b[0m \u001b[0;32mimport\u001b[0m \u001b[0mmatplotlib\u001b[0m\u001b[0;34m.\u001b[0m\u001b[0mpyplot\u001b[0m \u001b[0;32mas\u001b[0m \u001b[0mplt\u001b[0m\u001b[0;34m\u001b[0m\u001b[0;34m\u001b[0m\u001b[0m\n\u001b[1;32m      5\u001b[0m \u001b[0;32mimport\u001b[0m \u001b[0mmatplotlib\u001b[0m\u001b[0;34m.\u001b[0m\u001b[0mcm\u001b[0m \u001b[0;32mas\u001b[0m \u001b[0mcm\u001b[0m\u001b[0;34m\u001b[0m\u001b[0;34m\u001b[0m\u001b[0m\n\u001b[0;32m----> 6\u001b[0;31m \u001b[0;32mimport\u001b[0m \u001b[0mtorch\u001b[0m\u001b[0;34m\u001b[0m\u001b[0;34m\u001b[0m\u001b[0m\n\u001b[0m\u001b[1;32m      7\u001b[0m \u001b[0;32mimport\u001b[0m \u001b[0manfis\u001b[0m\u001b[0;34m\u001b[0m\u001b[0;34m\u001b[0m\u001b[0m\n\u001b[1;32m      8\u001b[0m \u001b[0;32mfrom\u001b[0m \u001b[0mmatplotlib\u001b[0m\u001b[0;34m.\u001b[0m\u001b[0mticker\u001b[0m \u001b[0;32mimport\u001b[0m \u001b[0mFormatStrFormatter\u001b[0m\u001b[0;34m\u001b[0m\u001b[0;34m\u001b[0m\u001b[0m\n",
      "\u001b[0;31mModuleNotFoundError\u001b[0m: No module named 'torch'"
     ]
    }
   ],
   "source": [
    "import sys\n",
    "import itertools\n",
    "import numpy as np\n",
    "import matplotlib.pyplot as plt\n",
    "import matplotlib.cm as cm\n",
    "import torch\n",
    "import anfis\n",
    "from matplotlib.ticker import FormatStrFormatter\n",
    "from torch.utils.data import TensorDataset, DataLoader\n",
    "from membership import BellMembFunc, make_bell_mfs, GaussMembFunc, make_gauss_mfs\n",
    "from experimental import train_anfis, test_anfis\n",
    "\n",
    "dtype = torch.float\n",
    "\n",
    "%matplotlib inline\n"
   ]
  },
  {
   "cell_type": "markdown",
   "metadata": {},
   "source": [
    "A função `plot` criada abaixo, apenas faz o gráfico com pontos vermelhos (caso não sejam dados outros parâmetros) de um dado conjuntos de pares ordenados. Na verdade, os pares são feitos a partir de dois arrays, o primeiro com os valores das abscissas e o segundo com o das ordenadas."
   ]
  },
  {
   "cell_type": "code",
   "execution_count": null,
   "metadata": {},
   "outputs": [],
   "source": [
    "def plot(x, y, plot_color = 'red', plot_label = 'Dados de entrada'):\n",
    "    plt.plot(x,y,'o', color = plot_color, label = plot_label)\n",
    "    plt.legend(loc=\"upper right\")\n",
    "    plt.show()"
   ]
  },
  {
   "cell_type": "markdown",
   "metadata": {},
   "source": [
    "A função `seno` apenas aplica a função seno da biblioteca `numpy` com ou sem um dado ruído."
   ]
  },
  {
   "cell_type": "code",
   "execution_count": null,
   "metadata": {},
   "outputs": [],
   "source": [
    "def seno(x, r = 0):\n",
    "    y = np.sin(x)\n",
    "    if (r != 0):\n",
    "      y = y + np.random.normal(0, r, y.shape)\n",
    "    return y"
   ]
  },
  {
   "cell_type": "markdown",
   "metadata": {},
   "source": [
    "A seguinte função devolve um `DataLoader` ou seja, um objeto iterável da biblioteca `torch` que guarda os dados sobre as entradas e saídas de uma dada função $f(\\cdot)$."
   ]
  },
  {
   "cell_type": "code",
   "execution_count": null,
   "metadata": {},
   "outputs": [],
   "source": [
    "def cria_dados(f, batch_size=10, ruido = 0, inicio =0, fim=2*np.pi):\n",
    "    pts = torch.arange(inicio, fim, 0.1)\n",
    "    x = torch.tensor(list(itertools.product(pts)), dtype=dtype)\n",
    "    y = [[f(p, ruido)] for p in x]\n",
    "    y = torch.tensor(y, dtype=dtype)\n",
    "    plot(x,y)\n",
    "    td = TensorDataset(x, y)\n",
    "    return DataLoader(td, batch_size=batch_size, shuffle=True)"
   ]
  },
  {
   "cell_type": "markdown",
   "metadata": {},
   "source": [
    "A função abaixo gera o modelo inicial de uma ANFIS que tem como função fuzzificadora a função Gaussiana."
   ]
  },
  {
   "cell_type": "code",
   "execution_count": null,
   "metadata": {
    "id": "cquI0zwHEwmC"
   },
   "outputs": [],
   "source": [
    "def cria_modelo(sigma = 0.1, mu_list = [1.0, 2.0]):\n",
    "    definicoes_entrada = [('x0', make_gauss_mfs(sigma, mu_list))]\n",
    "    variavel_saida = ['y0']\n",
    "    anf_inicial = anfis.AnfisNet('Jang\\'s example 1', invardefs = definicoes_entrada, outvarnames= variavel_saida)\n",
    "    return anf_inicial"
   ]
  },
  {
   "cell_type": "markdown",
   "metadata": {},
   "source": [
    "## Testes"
   ]
  },
  {
   "cell_type": "markdown",
   "metadata": {},
   "source": [
    "### Teste 1: sem ruído e três partes"
   ]
  },
  {
   "cell_type": "markdown",
   "metadata": {},
   "source": [
    "Como se pode ver, ao considerar uma função seno sem ruído a ANFIS tem um desempenho quase perfeito"
   ]
  },
  {
   "cell_type": "code",
   "execution_count": null,
   "metadata": {
    "colab": {
     "base_uri": "https://localhost:8080/",
     "height": 960
    },
    "id": "3HFWYsIAEwmE",
    "outputId": "96a8ab7a-45e4-4ff6-e809-0339d7cc667f"
   },
   "outputs": [],
   "source": [
    "modelo = cria_modelo(mu_list = [1.0, 2.0, 3.0])\n",
    "train_data = cria_dados(seno)\n",
    "train_anfis(modelo, train_data, 100, True) "
   ]
  },
  {
   "cell_type": "markdown",
   "metadata": {},
   "source": [
    "### Teste 2: com ruído e duas partes"
   ]
  },
  {
   "cell_type": "markdown",
   "metadata": {},
   "source": [
    "Ao se inserir um ruído nos dados e diminuir as funções de pertinência de três para duas, é possível notar que a porcentagem de erro aumenta consideravelmente, se mantendo na casa dos $200\\%$."
   ]
  },
  {
   "cell_type": "code",
   "execution_count": null,
   "metadata": {
    "colab": {
     "base_uri": "https://localhost:8080/",
     "height": 960
    },
    "id": "yGtFagAr8Xtv",
    "outputId": "dc3a20cb-d0d6-40ec-b209-dc5dedc6107d"
   },
   "outputs": [],
   "source": [
    "##Teste 2: ruído = 0.1; sigma = 10; duas funções de pertinência, \n",
    "##Ao adicionar um ruído de 0.1, a função seno continua com o seu formato, porém\n",
    "##ao deixar o sigma com um número médio, a porcentagem de erro fica alto e constante.\n",
    "##e além disso, o resultado final não fica muito bom e, podemos destacar que utilizamos \n",
    "##apenas duas funções de pertinência.\n",
    "modelo = cria_modelo(10)\n",
    "train_data = cria_dados(seno, ruido = 0.1)\n",
    "train_anfis(modelo, train_data, 100, True) "
   ]
  },
  {
   "cell_type": "markdown",
   "metadata": {},
   "source": [
    "### Teste 3: com ruído, base larga e duas partes"
   ]
  },
  {
   "cell_type": "markdown",
   "metadata": {},
   "source": [
    "Diferentemente do último teste, as funções de pertinência deste têm um sigma ($\\sigma$) maior, o que se traduz em uma base mais larga para cada uma delas. Nos resultados as porcentagens de erro continuam altas como no caso anterior."
   ]
  },
  {
   "cell_type": "code",
   "execution_count": null,
   "metadata": {
    "colab": {
     "base_uri": "https://localhost:8080/",
     "height": 960
    },
    "id": "IZK6R2YsEwmF",
    "outputId": "b3a9fc2b-02b8-4e55-f825-c9c42ee73a93"
   },
   "outputs": [],
   "source": [
    "##Teste 3: ruído = 0.1; sigma = 1000; duas funções de pertinência, \n",
    "##Ao adicionar um ruído de 0.1, a função de entrada seno continua com o seu formato, porém\n",
    "##ao deixar o sigma com um número grande, a porcentagem de erro fica alto e constante.\n",
    "##E o resultado final não é nada satisfatório, já que \"expandimos\" muito a \"base\" da gaussiana\n",
    "## fazendo com que o formato do seno ficasse perdido\n",
    "modelo = cria_modelo(1000)\n",
    "train_data = cria_dados(seno, ruido = 0.1)\n",
    "train_anfis(modelo, train_data, 100, True) "
   ]
  },
  {
   "cell_type": "markdown",
   "metadata": {},
   "source": [
    "### Teste 4: com ruído, base média e cinco partes"
   ]
  },
  {
   "cell_type": "markdown",
   "metadata": {},
   "source": [
    "Neste caso, um sigma médio foi escolhido ($\\sigma = 10$) e cinco funções de pertinência foram adotadas. É possível ver que o modelo foi se estabilizando ao longo do tempo, diferentemente dos dois casos anteriores."
   ]
  },
  {
   "cell_type": "code",
   "execution_count": null,
   "metadata": {
    "colab": {
     "base_uri": "https://localhost:8080/",
     "height": 963
    },
    "id": "xJ-rmYTjEwmG",
    "outputId": "f16863e8-76cc-4aaa-eaef-f454e6171068"
   },
   "outputs": [],
   "source": [
    "##Teste 4: ruído = 0.1; sigma = 10; cinco funções de pertinência, \n",
    "##Ao adicionar um ruído de 0.1, a função seno continua com o seu formato, porém\n",
    "##ao deixar o sigma com um número médio, mas agora, aumentando as funções de pertinência,\n",
    "##temos um caso interessante, onde a função treinada se aproxima um pouco mais da função\n",
    "##original. \n",
    "modelo = cria_modelo(10, [1.0, 2.0, 2.5, 3.20, 7.0])\n",
    "train_data = cria_dados(seno, ruido = 0.1)\n",
    "train_anfis(modelo, train_data, 100, True) "
   ]
  }
 ],
 "metadata": {
  "colab": {
   "collapsed_sections": [],
   "name": "Tp3_part1.ipynb",
   "provenance": []
  },
  "kernelspec": {
   "display_name": "Python 3 (ipykernel)",
   "language": "python",
   "name": "python3"
  },
  "language_info": {
   "codemirror_mode": {
    "name": "ipython",
    "version": 3
   },
   "file_extension": ".py",
   "mimetype": "text/x-python",
   "name": "python",
   "nbconvert_exporter": "python",
   "pygments_lexer": "ipython3",
   "version": "3.9.7"
  }
 },
 "nbformat": 4,
 "nbformat_minor": 1
}
